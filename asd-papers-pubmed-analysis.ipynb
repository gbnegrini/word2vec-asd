{
 "cells": [
  {
   "cell_type": "markdown",
   "metadata": {},
   "source": [
    "## Libraries and packages"
   ]
  },
  {
   "cell_type": "code",
   "execution_count": 1,
   "metadata": {
    "ExecuteTime": {
     "end_time": "2019-01-05T22:43:50.441751Z",
     "start_time": "2019-01-05T22:43:47.963363Z"
    },
    "collapsed": true
   },
   "outputs": [],
   "source": [
    "from Bio import Entrez\n",
    "import pandas as pd\n",
    "import seaborn as sns\n",
    "import numpy as np\n",
    "import re\n",
    "import matplotlib.pyplot as plt\n",
    "%matplotlib inline\n",
    "import nltk\n",
    "#nltk.download()\n",
    "email = 'gui-negrini@hotmail.com'"
   ]
  },
  {
   "cell_type": "markdown",
   "metadata": {},
   "source": [
    "____________________________________________________________________________________"
   ]
  },
  {
   "cell_type": "markdown",
   "metadata": {},
   "source": [
    "## Functions"
   ]
  },
  {
   "cell_type": "code",
   "execution_count": 50,
   "metadata": {
    "ExecuteTime": {
     "end_time": "2019-01-06T12:52:26.176485Z",
     "start_time": "2019-01-06T12:52:26.164487Z"
    },
    "collapsed": true
   },
   "outputs": [],
   "source": [
    "def get_PMID_list(search_term):\n",
    "    '''Returns a list of PMIDs from articles related to the search term'''\n",
    "    Entrez.email = email\n",
    "    handle = Entrez.esearch(db=\"pubmed\", term=search_term, retmax=100000)\n",
    "    record = Entrez.read(handle)\n",
    "    return list(record[\"IdList\"])"
   ]
  },
  {
   "cell_type": "code",
   "execution_count": 51,
   "metadata": {
    "ExecuteTime": {
     "end_time": "2019-01-06T12:55:41.871093Z",
     "start_time": "2019-01-06T12:55:41.839101Z"
    },
    "collapsed": true
   },
   "outputs": [],
   "source": [
    "def get_articles_info(PMID_list):\n",
    "    '''Fetches the articles and scrapes the information needed'''\n",
    "    list_articles_info = []\n",
    "    list_error = []\n",
    "\n",
    "    # I was getting a XML parser error on some IDs, so I had to fetch them one by one instead of passing the whole\n",
    "    # PMID list as the id parameter of efetch method. \n",
    "    \n",
    "    for ID in PMID_list:\n",
    "        Entrez.email = email\n",
    "        record = 'test'\n",
    "        try:\n",
    "            handle = Entrez.efetch(db=\"pubmed\", id=ID, rettype=\"medline\", retmode=\"xml\")\n",
    "            record = Entrez.read(handle)\n",
    "            list_articles_info.append(\n",
    "                {'Id': record['PubmedArticle'][0]['MedlineCitation']['PMID'][:8], \n",
    "                'Title': record['PubmedArticle'][0]['MedlineCitation']['Article']['ArticleTitle'],\n",
    "                'Year': record['PubmedArticle'][0]['MedlineCitation']['Article']['ArticleDate'][0]['Year'], \n",
    "                'Abstract': record['PubmedArticle'][0]['MedlineCitation']['Article']['Abstract']['AbstractText'][0]\n",
    "                })\n",
    "        except:\n",
    "            # Records all IDs that were not fetched\n",
    "            list_error.append(ID)\n",
    "            pass\n",
    "    \n",
    "    \n",
    "    list_to_file(list_error, 'listError')\n",
    "    df_autism_articles = pd.DataFrame(list_articles_info)\n",
    "    df_autism_articles.to_csv('AutismArticlesInformation_2.csv', encoding='utf-8', index=False)"
   ]
  },
  {
   "cell_type": "code",
   "execution_count": 52,
   "metadata": {
    "ExecuteTime": {
     "end_time": "2019-01-06T12:56:32.283503Z",
     "start_time": "2019-01-06T12:56:32.267508Z"
    },
    "collapsed": true
   },
   "outputs": [],
   "source": [
    "def list_to_file(python_list, file_name):\n",
    "    '''Saves a list to a .txt file at local folder'''\n",
    "    file = open(\"{}.txt\".format(file_name), \"w\")\n",
    "    for element in python_list:\n",
    "        file.write(element)\n",
    "        if(element != python_list[-1]): #ensure that it doesn't print a blank line at the end of the file\n",
    "            file.write(\"\\n\")\n",
    "    file.close()"
   ]
  },
  {
   "cell_type": "code",
   "execution_count": 53,
   "metadata": {
    "ExecuteTime": {
     "end_time": "2019-01-06T12:57:19.000205Z",
     "start_time": "2019-01-06T12:57:18.988209Z"
    },
    "collapsed": true
   },
   "outputs": [],
   "source": [
    "def file_to_list(file_name):\n",
    "    '''Reads a .txt file into a list'''\n",
    "    line_list = []\n",
    "    file = open(\"{}.txt\".format(file_name), \"r\")\n",
    "    for line in file:\n",
    "        line_list.append(line.rstrip('\\n'))\n",
    "    file.close()\n",
    "    return line_list"
   ]
  },
  {
   "cell_type": "markdown",
   "metadata": {},
   "source": [
    "_________________________________________________________________________________________"
   ]
  },
  {
   "cell_type": "markdown",
   "metadata": {},
   "source": [
    "## Code"
   ]
  },
  {
   "cell_type": "markdown",
   "metadata": {},
   "source": [
    "#### Getting the PMIDs"
   ]
  },
  {
   "cell_type": "code",
   "execution_count": 48,
   "metadata": {
    "ExecuteTime": {
     "end_time": "2019-01-06T12:50:49.862947Z",
     "start_time": "2019-01-06T12:50:47.227315Z"
    },
    "collapsed": false
   },
   "outputs": [],
   "source": [
    "autism_PMID_list = get_PMID_list('autism') #Search and returns a PMID list of articles matching 'autism' search term"
   ]
  },
  {
   "cell_type": "code",
   "execution_count": 55,
   "metadata": {
    "ExecuteTime": {
     "end_time": "2019-01-06T13:00:09.478919Z",
     "start_time": "2019-01-06T13:00:09.466923Z"
    },
    "collapsed": false
   },
   "outputs": [
    {
     "name": "stdout",
     "output_type": "stream",
     "text": [
      "A total of 44927 articles were found.\n"
     ]
    }
   ],
   "source": [
    "print('A total of {} articles were found.'.format(len(autism_PMID_list)))"
   ]
  },
  {
   "cell_type": "code",
   "execution_count": null,
   "metadata": {
    "ExecuteTime": {
     "end_time": "2019-01-05T22:29:07.050399Z",
     "start_time": "2019-01-05T22:29:06.874782Z"
    },
    "collapsed": true
   },
   "outputs": [],
   "source": [
    "list_to_file(autism_PMID_list, 'autismPMIDList_2') #Saves the PMID list into a local .txt file to avoid repeting the web search"
   ]
  },
  {
   "cell_type": "code",
   "execution_count": 54,
   "metadata": {
    "ExecuteTime": {
     "end_time": "2019-01-06T13:00:03.433900Z",
     "start_time": "2019-01-06T13:00:03.385912Z"
    },
    "collapsed": true
   },
   "outputs": [],
   "source": [
    "# autism_PMID_list = file_to_list('autismPMIDList_2') #Reads the saved .txt file into a Python list"
   ]
  },
  {
   "cell_type": "markdown",
   "metadata": {},
   "source": [
    "#### Getting article's information"
   ]
  },
  {
   "cell_type": "code",
   "execution_count": null,
   "metadata": {
    "collapsed": true
   },
   "outputs": [],
   "source": [
    "# It takes almost 11h to run\n",
    "get_articles_info(autism_PMID_list)"
   ]
  },
  {
   "cell_type": "markdown",
   "metadata": {},
   "source": [
    "#### Exploring the data"
   ]
  },
  {
   "cell_type": "code",
   "execution_count": 56,
   "metadata": {
    "ExecuteTime": {
     "end_time": "2019-01-06T13:00:55.522992Z",
     "start_time": "2019-01-06T13:00:54.814855Z"
    },
    "collapsed": true
   },
   "outputs": [],
   "source": [
    "# df_autism_articles = pd.read_csv('AutismArticlesInformation_2.csv')"
   ]
  },
  {
   "cell_type": "code",
   "execution_count": 57,
   "metadata": {
    "ExecuteTime": {
     "end_time": "2019-01-06T13:00:59.265592Z",
     "start_time": "2019-01-06T13:00:59.249596Z"
    },
    "collapsed": false
   },
   "outputs": [
    {
     "data": {
      "text/html": [
       "<div>\n",
       "<table border=\"1\" class=\"dataframe\">\n",
       "  <thead>\n",
       "    <tr style=\"text-align: right;\">\n",
       "      <th></th>\n",
       "      <th>Abstract</th>\n",
       "      <th>Id</th>\n",
       "      <th>Title</th>\n",
       "      <th>Year</th>\n",
       "    </tr>\n",
       "  </thead>\n",
       "  <tbody>\n",
       "    <tr>\n",
       "      <th>0</th>\n",
       "      <td>To investigate the risk for psychiatric disord...</td>\n",
       "      <td>30609223</td>\n",
       "      <td>Psychiatric Disorders After Attention-Deficit/...</td>\n",
       "      <td>2019</td>\n",
       "    </tr>\n",
       "    <tr>\n",
       "      <th>1</th>\n",
       "      <td>A number of studies have documented the benefi...</td>\n",
       "      <td>30608513</td>\n",
       "      <td>The Influence of Demographic and Child Charact...</td>\n",
       "      <td>2019</td>\n",
       "    </tr>\n",
       "    <tr>\n",
       "      <th>2</th>\n",
       "      <td>Identifying genetic diagnoses for neurologic c...</td>\n",
       "      <td>30608006</td>\n",
       "      <td>Genetic Testing Practices of Genetic Counselor...</td>\n",
       "      <td>2019</td>\n",
       "    </tr>\n",
       "    <tr>\n",
       "      <th>3</th>\n",
       "      <td>Vitamin or mineral supplementation is consider...</td>\n",
       "      <td>30607900</td>\n",
       "      <td>The Role of Vitamins in Autism Spectrum Disord...</td>\n",
       "      <td>2019</td>\n",
       "    </tr>\n",
       "    <tr>\n",
       "      <th>4</th>\n",
       "      <td>GABA&lt;sub&gt;A&lt;/sub&gt; receptors are the major inhib...</td>\n",
       "      <td>30607899</td>\n",
       "      <td>The α5-Containing GABA&lt;sub&gt;A&lt;/sub&gt; Receptors-a...</td>\n",
       "      <td>2019</td>\n",
       "    </tr>\n",
       "  </tbody>\n",
       "</table>\n",
       "</div>"
      ],
      "text/plain": [
       "                                            Abstract        Id  \\\n",
       "0  To investigate the risk for psychiatric disord...  30609223   \n",
       "1  A number of studies have documented the benefi...  30608513   \n",
       "2  Identifying genetic diagnoses for neurologic c...  30608006   \n",
       "3  Vitamin or mineral supplementation is consider...  30607900   \n",
       "4  GABA<sub>A</sub> receptors are the major inhib...  30607899   \n",
       "\n",
       "                                               Title  Year  \n",
       "0  Psychiatric Disorders After Attention-Deficit/...  2019  \n",
       "1  The Influence of Demographic and Child Charact...  2019  \n",
       "2  Genetic Testing Practices of Genetic Counselor...  2019  \n",
       "3  The Role of Vitamins in Autism Spectrum Disord...  2019  \n",
       "4  The α5-Containing GABA<sub>A</sub> Receptors-a...  2019  "
      ]
     },
     "execution_count": 57,
     "metadata": {},
     "output_type": "execute_result"
    }
   ],
   "source": [
    "df_autism_articles.head()"
   ]
  },
  {
   "cell_type": "code",
   "execution_count": 58,
   "metadata": {
    "ExecuteTime": {
     "end_time": "2019-01-06T13:01:05.061401Z",
     "start_time": "2019-01-06T13:01:05.041392Z"
    },
    "collapsed": false
   },
   "outputs": [
    {
     "name": "stdout",
     "output_type": "stream",
     "text": [
      "<class 'pandas.core.frame.DataFrame'>\n",
      "RangeIndex: 21169 entries, 0 to 21168\n",
      "Data columns (total 4 columns):\n",
      "Abstract    21148 non-null object\n",
      "Id          21169 non-null int64\n",
      "Title       21167 non-null object\n",
      "Year        21169 non-null int64\n",
      "dtypes: int64(2), object(2)\n",
      "memory usage: 661.6+ KB\n"
     ]
    }
   ],
   "source": [
    "df_autism_articles.info()"
   ]
  },
  {
   "cell_type": "code",
   "execution_count": 59,
   "metadata": {
    "ExecuteTime": {
     "end_time": "2019-01-06T13:01:10.320266Z",
     "start_time": "2019-01-06T13:01:09.683649Z"
    },
    "collapsed": false
   },
   "outputs": [
    {
     "data": {
      "text/plain": [
       "<matplotlib.axes._subplots.AxesSubplot at 0x234b1645940>"
      ]
     },
     "execution_count": 59,
     "metadata": {},
     "output_type": "execute_result"
    },
    {
     "data": {
      "image/png": "[encoded data removed]",
      "text/plain": [
       "<matplotlib.figure.Figure at 0x234b1645550>"
      ]
     },
     "metadata": {},
     "output_type": "display_data"
    }
   ],
   "source": [
    "plt.figure(figsize=(10,5))\n",
    "plt.title('ASD articles per year')\n",
    "sns.countplot(x='Year', data=df_autism_articles)"
   ]
  },
  {
   "cell_type": "code",
   "execution_count": 41,
   "metadata": {
    "ExecuteTime": {
     "end_time": "2019-01-06T11:57:32.738783Z",
     "start_time": "2019-01-06T11:57:32.560515Z"
    },
    "collapsed": false
   },
   "outputs": [
    {
     "data": {
      "image/png": "[encoded data removed]",
      "text/plain": [
       "<matplotlib.figure.Figure at 0x234b6f44128>"
      ]
     },
     "metadata": {},
     "output_type": "display_data"
    }
   ],
   "source": [
    "plt.bar([0,1], [len(list_error), len(list_articles_info)])\n",
    "plt.ylabel('Nº of articles', fontsize=12)\n",
    "plt.xticks([0,1], ['Failed','Fetched'], fontsize=12)\n",
    "plt.title('Failed vs. fetched articles', fontsize=16)\n",
    "plt.show()"
   ]
  }
 ],
 "metadata": {
  "kernelspec": {
   "display_name": "Python 3",
   "language": "python",
   "name": "python3"
  },
  "language_info": {
   "codemirror_mode": {
    "name": "ipython",
    "version": 3
   },
   "file_extension": ".py",
   "mimetype": "text/x-python",
   "name": "python",
   "nbconvert_exporter": "python",
   "pygments_lexer": "ipython3",
   "version": "3.6.0"
  },
  "toc": {
   "base_numbering": 1,
   "nav_menu": {},
   "number_sections": false,
   "sideBar": true,
   "skip_h1_title": false,
   "title_cell": "Table of Contents",
   "title_sidebar": "Contents",
   "toc_cell": false,
   "toc_position": {},
   "toc_section_display": true,
   "toc_window_display": false
  },
  "varInspector": {
   "cols": {
    "lenName": 16,
    "lenType": 16,
    "lenVar": 40
   },
   "kernels_config": {
    "python": {
     "delete_cmd_postfix": "",
     "delete_cmd_prefix": "del ",
     "library": "var_list.py",
     "varRefreshCmd": "print(var_dic_list())"
    },
    "r": {
     "delete_cmd_postfix": ") ",
     "delete_cmd_prefix": "rm(",
     "library": "var_list.r",
     "varRefreshCmd": "cat(var_dic_list()) "
    }
   },
   "position": {
    "height": "176px",
    "left": "938px",
    "right": "20px",
    "top": "43px",
    "width": "350px"
   },
   "types_to_exclude": [
    "module",
    "function",
    "builtin_function_or_method",
    "instance",
    "_Feature"
   ],
   "window_display": false
  }
 },
 "nbformat": 4,
 "nbformat_minor": 2
}
