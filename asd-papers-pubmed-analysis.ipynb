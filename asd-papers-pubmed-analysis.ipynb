{
 "cells": [
  {
   "cell_type": "markdown",
   "metadata": {},
   "source": [
    "## Libraries and packages"
   ]
  },
  {
   "cell_type": "code",
   "execution_count": 10,
   "metadata": {
    "ExecuteTime": {
     "end_time": "2019-01-08T18:50:37.625650Z",
     "start_time": "2019-01-08T18:50:37.601640Z"
    },
    "collapsed": false
   },
   "outputs": [],
   "source": [
    "from Bio import Entrez\n",
    "import pandas as pd\n",
    "import seaborn as sns\n",
    "import numpy as np\n",
    "import re\n",
    "import matplotlib.pyplot as plt\n",
    "%matplotlib inline\n",
    "import nltk\n",
    "from nltk.corpus import stopwords\n",
    "from nltk.stem.snowball import SnowballStemmer\n",
    "stemmer = SnowballStemmer('english')\n",
    "# nltk.download()\n",
    "email = 'gui-negrini@hotmail.com'"
   ]
  },
  {
   "cell_type": "markdown",
   "metadata": {},
   "source": [
    "____________________________________________________________________________________"
   ]
  },
  {
   "cell_type": "markdown",
   "metadata": {},
   "source": [
    "## Functions"
   ]
  },
  {
   "cell_type": "code",
   "execution_count": 50,
   "metadata": {
    "ExecuteTime": {
     "end_time": "2019-01-06T12:52:26.176485Z",
     "start_time": "2019-01-06T12:52:26.164487Z"
    },
    "collapsed": true
   },
   "outputs": [],
   "source": [
    "def get_PMID_list(search_term):\n",
    "    '''Returns a list of PMIDs from articles related to the search term'''\n",
    "    Entrez.email = email\n",
    "    handle = Entrez.esearch(db=\"pubmed\", term=search_term, retmax=100000)\n",
    "    record = Entrez.read(handle)\n",
    "    return list(record[\"IdList\"])"
   ]
  },
  {
   "cell_type": "code",
   "execution_count": 51,
   "metadata": {
    "ExecuteTime": {
     "end_time": "2019-01-06T12:55:41.871093Z",
     "start_time": "2019-01-06T12:55:41.839101Z"
    },
    "collapsed": true
   },
   "outputs": [],
   "source": [
    "def get_articles_info(PMID_list):\n",
    "    '''Fetches the articles and scrapes the information needed'''\n",
    "    list_articles_info = []\n",
    "    list_error = []\n",
    "\n",
    "    # I was getting a XML parser error on some IDs, so I had to fetch them one by one instead of passing the whole\n",
    "    # PMID list as the id parameter of the efetch method. \n",
    "    \n",
    "    for ID in PMID_list:\n",
    "        Entrez.email = email\n",
    "        record = 'test'\n",
    "        try:\n",
    "            handle = Entrez.efetch(db=\"pubmed\", id=ID, rettype=\"medline\", retmode=\"xml\")\n",
    "            record = Entrez.read(handle)\n",
    "            list_articles_info.append(\n",
    "                {'Id': record['PubmedArticle'][0]['MedlineCitation']['PMID'][:8], \n",
    "                'Title': record['PubmedArticle'][0]['MedlineCitation']['Article']['ArticleTitle'],\n",
    "                'Year': record['PubmedArticle'][0]['MedlineCitation']['Article']['ArticleDate'][0]['Year'], \n",
    "                'Abstract': record['PubmedArticle'][0]['MedlineCitation']['Article']['Abstract']['AbstractText'][0]\n",
    "                })\n",
    "        except:\n",
    "            # Records all IDs that were not fetched\n",
    "            list_error.append(ID)\n",
    "            pass\n",
    "    \n",
    "    \n",
    "    list_to_file(list_error, 'listError')\n",
    "    df_autism_articles = pd.DataFrame(list_articles_info)\n",
    "    df_autism_articles.to_csv('AutismArticlesRaw.csv', encoding='utf-8', index=False)"
   ]
  },
  {
   "cell_type": "code",
   "execution_count": 52,
   "metadata": {
    "ExecuteTime": {
     "end_time": "2019-01-06T12:56:32.283503Z",
     "start_time": "2019-01-06T12:56:32.267508Z"
    },
    "collapsed": true
   },
   "outputs": [],
   "source": [
    "def list_to_file(python_list, file_name):\n",
    "    '''Saves a list to a .txt file at local folder'''\n",
    "    file = open(\"{}.txt\".format(file_name), \"w\")\n",
    "    for element in python_list:\n",
    "        file.write(element)\n",
    "        if(element != python_list[-1]): # ensure that it doesn't print a blank line at the end of the file\n",
    "            file.write(\"\\n\")\n",
    "    file.close()"
   ]
  },
  {
   "cell_type": "code",
   "execution_count": 70,
   "metadata": {
    "ExecuteTime": {
     "end_time": "2019-01-08T22:07:31.469184Z",
     "start_time": "2019-01-08T22:07:31.457185Z"
    },
    "collapsed": true
   },
   "outputs": [],
   "source": [
    "def file_to_list(file_name):\n",
    "    '''Reads a .txt file into a list'''\n",
    "    line_list = []\n",
    "    file = open(\"{}.txt\".format(file_name), \"r\")\n",
    "    for line in file:\n",
    "        line_list.append(line.rstrip('\\n'))\n",
    "    file.close()\n",
    "    return line_list"
   ]
  },
  {
   "cell_type": "markdown",
   "metadata": {},
   "source": [
    "_________________________________________________________________________________________"
   ]
  },
  {
   "cell_type": "markdown",
   "metadata": {},
   "source": [
    "## Code"
   ]
  },
  {
   "cell_type": "markdown",
   "metadata": {},
   "source": [
    "#### Getting the PMIDs"
   ]
  },
  {
   "cell_type": "code",
   "execution_count": 48,
   "metadata": {
    "ExecuteTime": {
     "end_time": "2019-01-06T12:50:49.862947Z",
     "start_time": "2019-01-06T12:50:47.227315Z"
    },
    "collapsed": false
   },
   "outputs": [],
   "source": [
    "# autism_PMID_list = get_PMID_list('autism') # Search and returns a PMID list of articles matching 'autism' search term"
   ]
  },
  {
   "cell_type": "code",
   "execution_count": 55,
   "metadata": {
    "ExecuteTime": {
     "end_time": "2019-01-06T13:00:09.478919Z",
     "start_time": "2019-01-06T13:00:09.466923Z"
    },
    "collapsed": false
   },
   "outputs": [
    {
     "name": "stdout",
     "output_type": "stream",
     "text": [
      "A total of 44927 articles were found.\n"
     ]
    }
   ],
   "source": [
    "print('A total of {} articles were found.'.format(len(autism_PMID_list)))"
   ]
  },
  {
   "cell_type": "code",
   "execution_count": null,
   "metadata": {
    "ExecuteTime": {
     "end_time": "2019-01-05T22:29:07.050399Z",
     "start_time": "2019-01-05T22:29:06.874782Z"
    },
    "collapsed": true
   },
   "outputs": [],
   "source": [
    "list_to_file(autism_PMID_list, 'autismPMIDList_2') # Saves the PMID list into a local .txt file to avoid repeting the web search"
   ]
  },
  {
   "cell_type": "code",
   "execution_count": 54,
   "metadata": {
    "ExecuteTime": {
     "end_time": "2019-01-06T13:00:03.433900Z",
     "start_time": "2019-01-06T13:00:03.385912Z"
    },
    "collapsed": true
   },
   "outputs": [],
   "source": [
    "# autism_PMID_list = file_to_list('autismPMIDList_2') # Reads the saved .txt file into a Python list"
   ]
  },
  {
   "cell_type": "markdown",
   "metadata": {},
   "source": [
    "#### Getting article's information"
   ]
  },
  {
   "cell_type": "code",
   "execution_count": null,
   "metadata": {
    "collapsed": true
   },
   "outputs": [],
   "source": [
    "# It takes almost 11h to run\n",
    "get_articles_info(autism_PMID_list)"
   ]
  },
  {
   "cell_type": "markdown",
   "metadata": {},
   "source": [
    "#### Exploring the data"
   ]
  },
  {
   "cell_type": "code",
   "execution_count": 47,
   "metadata": {
    "ExecuteTime": {
     "end_time": "2019-01-08T21:46:33.271322Z",
     "start_time": "2019-01-08T21:46:32.710216Z"
    },
    "collapsed": true
   },
   "outputs": [],
   "source": [
    "df_autism_articles = pd.read_csv('AutismArticlesRaw.csv')"
   ]
  },
  {
   "cell_type": "code",
   "execution_count": 27,
   "metadata": {
    "ExecuteTime": {
     "end_time": "2019-01-08T21:26:35.670098Z",
     "start_time": "2019-01-08T21:26:35.642105Z"
    },
    "collapsed": false
   },
   "outputs": [
    {
     "data": {
      "text/html": [
       "<div>\n",
       "<style scoped>\n",
       "    .dataframe tbody tr th:only-of-type {\n",
       "        vertical-align: middle;\n",
       "    }\n",
       "\n",
       "    .dataframe tbody tr th {\n",
       "        vertical-align: top;\n",
       "    }\n",
       "\n",
       "    .dataframe thead th {\n",
       "        text-align: right;\n",
       "    }\n",
       "</style>\n",
       "<table border=\"1\" class=\"dataframe\">\n",
       "  <thead>\n",
       "    <tr style=\"text-align: right;\">\n",
       "      <th></th>\n",
       "      <th>Abstract</th>\n",
       "      <th>Id</th>\n",
       "      <th>Title</th>\n",
       "      <th>Year</th>\n",
       "    </tr>\n",
       "  </thead>\n",
       "  <tbody>\n",
       "    <tr>\n",
       "      <th>0</th>\n",
       "      <td>To investigate the risk for psychiatric disord...</td>\n",
       "      <td>30609223</td>\n",
       "      <td>Psychiatric Disorders After Attention-Deficit/...</td>\n",
       "      <td>2019</td>\n",
       "    </tr>\n",
       "    <tr>\n",
       "      <th>1</th>\n",
       "      <td>A number of studies have documented the benefi...</td>\n",
       "      <td>30608513</td>\n",
       "      <td>The Influence of Demographic and Child Charact...</td>\n",
       "      <td>2019</td>\n",
       "    </tr>\n",
       "    <tr>\n",
       "      <th>2</th>\n",
       "      <td>Identifying genetic diagnoses for neurologic c...</td>\n",
       "      <td>30608006</td>\n",
       "      <td>Genetic Testing Practices of Genetic Counselor...</td>\n",
       "      <td>2019</td>\n",
       "    </tr>\n",
       "    <tr>\n",
       "      <th>3</th>\n",
       "      <td>Vitamin or mineral supplementation is consider...</td>\n",
       "      <td>30607900</td>\n",
       "      <td>The Role of Vitamins in Autism Spectrum Disord...</td>\n",
       "      <td>2019</td>\n",
       "    </tr>\n",
       "    <tr>\n",
       "      <th>4</th>\n",
       "      <td>GABA&lt;sub&gt;A&lt;/sub&gt; receptors are the major inhib...</td>\n",
       "      <td>30607899</td>\n",
       "      <td>The α5-Containing GABA&lt;sub&gt;A&lt;/sub&gt; Receptors-a...</td>\n",
       "      <td>2019</td>\n",
       "    </tr>\n",
       "  </tbody>\n",
       "</table>\n",
       "</div>"
      ],
      "text/plain": [
       "                                            Abstract        Id  \\\n",
       "0  To investigate the risk for psychiatric disord...  30609223   \n",
       "1  A number of studies have documented the benefi...  30608513   \n",
       "2  Identifying genetic diagnoses for neurologic c...  30608006   \n",
       "3  Vitamin or mineral supplementation is consider...  30607900   \n",
       "4  GABA<sub>A</sub> receptors are the major inhib...  30607899   \n",
       "\n",
       "                                               Title  Year  \n",
       "0  Psychiatric Disorders After Attention-Deficit/...  2019  \n",
       "1  The Influence of Demographic and Child Charact...  2019  \n",
       "2  Genetic Testing Practices of Genetic Counselor...  2019  \n",
       "3  The Role of Vitamins in Autism Spectrum Disord...  2019  \n",
       "4  The α5-Containing GABA<sub>A</sub> Receptors-a...  2019  "
      ]
     },
     "execution_count": 27,
     "metadata": {},
     "output_type": "execute_result"
    }
   ],
   "source": [
    "df_autism_articles.head()"
   ]
  },
  {
   "cell_type": "code",
   "execution_count": 7,
   "metadata": {
    "ExecuteTime": {
     "end_time": "2019-01-06T22:20:34.948808Z",
     "start_time": "2019-01-06T22:20:34.920811Z"
    },
    "collapsed": false
   },
   "outputs": [
    {
     "name": "stdout",
     "output_type": "stream",
     "text": [
      "<class 'pandas.core.frame.DataFrame'>\n",
      "RangeIndex: 21169 entries, 0 to 21168\n",
      "Data columns (total 4 columns):\n",
      "Abstract    21148 non-null object\n",
      "Id          21169 non-null int64\n",
      "Title       21167 non-null object\n",
      "Year        21169 non-null int64\n",
      "dtypes: int64(2), object(2)\n",
      "memory usage: 661.6+ KB\n"
     ]
    }
   ],
   "source": [
    "df_autism_articles.info()"
   ]
  },
  {
   "cell_type": "code",
   "execution_count": 59,
   "metadata": {
    "ExecuteTime": {
     "end_time": "2019-01-06T13:01:10.320266Z",
     "start_time": "2019-01-06T13:01:09.683649Z"
    },
    "collapsed": false
   },
   "outputs": [
    {
     "data": {
      "text/plain": [
       "<matplotlib.axes._subplots.AxesSubplot at 0x234b1645940>"
      ]
     },
     "execution_count": 59,
     "metadata": {},
     "output_type": "execute_result"
    },
    {
     "data": {
      "image/png": "[encoded data removed]",
      "text/plain": [
       "<matplotlib.figure.Figure at 0x234b1645550>"
      ]
     },
     "metadata": {},
     "output_type": "display_data"
    }
   ],
   "source": [
    "plt.figure(figsize=(10,5))\n",
    "plt.title('ASD articles per year')\n",
    "sns.countplot(x='Year', data=df_autism_articles)"
   ]
  },
  {
   "cell_type": "code",
   "execution_count": 75,
   "metadata": {
    "ExecuteTime": {
     "end_time": "2019-01-08T22:09:05.277218Z",
     "start_time": "2019-01-08T22:09:05.105824Z"
    },
    "collapsed": false
   },
   "outputs": [
    {
     "data": {
      "image/png": "[encoded data removed]",
      "text/plain": [
       "<Figure size 432x288 with 1 Axes>"
      ]
     },
     "metadata": {},
     "output_type": "display_data"
    }
   ],
   "source": [
    "# list_error = file_to_list('listError')\n",
    "# list_articles_info = df_autism_articles['Abstract']\n",
    "\n",
    "plt.bar([0,1], [len(list_error), len(list_articles_info)], color=['darkred', 'darkgreen'])\n",
    "plt.ylabel('Nº of articles', fontsize=12)\n",
    "plt.xticks([0,1], ['Failed','Fetched'], fontsize=12)\n",
    "plt.title('Failed vs. fetched articles', fontsize=16)\n",
    "plt.show()"
   ]
  },
  {
   "cell_type": "markdown",
   "metadata": {},
   "source": [
    "#### Abstract data preprocessing"
   ]
  },
  {
   "cell_type": "code",
   "execution_count": 48,
   "metadata": {
    "ExecuteTime": {
     "end_time": "2019-01-08T21:48:13.684462Z",
     "start_time": "2019-01-08T21:46:55.679490Z"
    },
    "collapsed": false,
    "scrolled": false
   },
   "outputs": [
    {
     "name": "stdout",
     "output_type": "stream",
     "text": [
      "1. Raw word count: \n",
      "23234442\n",
      "2. Preprocessed word count: \n",
      " 14881076\n"
     ]
    }
   ],
   "source": [
    "# removes all rows/articles with a missing value in any column\n",
    "df_autism_articles = df_autism_articles.dropna()\n",
    "\n",
    "# creates a new column in the dataframe for the preprocessed data\n",
    "preprocessed = pd.Series()\n",
    "df_autism_articles.insert(loc=1, column='Preprocessed', value=preprocessed)\n",
    "\n",
    "# replaces with space anything that isn't a lower case or upper case letter\n",
    "df_autism_articles['Preprocessed'] = df_autism_articles['Abstract'].replace(\n",
    "    r'[^a-zA-Z]', \" \", regex=True)\n",
    "\n",
    "# replaces multiple spaces with single space\n",
    "df_autism_articles['Preprocessed'] = df_autism_articles[\n",
    "    'Preprocessed'].replace(\n",
    "        r' +', \" \", regex=True)\n",
    "\n",
    "# converts everything to lower case\n",
    "df_autism_articles['Preprocessed'] = df_autism_articles[\n",
    "    'Preprocessed'].str.lower()\n",
    "\n",
    "# removes stop words\n",
    "stop_words = set(stopwords.words(\"english\"))\n",
    "df_autism_articles['Preprocessed'] = df_autism_articles['Preprocessed'].apply(lambda abstract: \n",
    "                                                                              [word for word in str(abstract).split() \n",
    "                                                                               if word not in stop_words])\n",
    "\n",
    "# word stemming\n",
    "df_autism_articles['Preprocessed'] = df_autism_articles['Preprocessed'].apply(lambda abstract: \n",
    "                                                                              [stemmer.stem(word) for word in abstract])\n",
    "\n",
    "# joins the words back into a string\n",
    "df_autism_articles['Preprocessed'] = df_autism_articles['Preprocessed'].str.join(' ')\n",
    "\n",
    "# saves the dataframe to .csv file\n",
    "# df_autism_articles.to_csv('PreProcessedAbstracts.csv', encoding='utf-8', index=False)"
   ]
  },
  {
   "cell_type": "code",
   "execution_count": 51,
   "metadata": {
    "ExecuteTime": {
     "end_time": "2019-01-08T21:49:59.465513Z",
     "start_time": "2019-01-08T21:49:59.433522Z"
    },
    "collapsed": false
   },
   "outputs": [
    {
     "name": "stdout",
     "output_type": "stream",
     "text": [
      "1. Raw word count: \n",
      "23234442\n",
      "2. Preprocessed word count: \n",
      "14881076\n"
     ]
    }
   ],
   "source": [
    "# raw word count\n",
    "total_word_count = 0\n",
    "for abstract in df_autism_articles['Abstract']:\n",
    "    total_word_count = total_word_count + len(abstract)\n",
    "    \n",
    "# word count after preprocessing\n",
    "cleaned_word_count = 0\n",
    "for abstract in df_autism_articles['Preprocessed']:\n",
    "    cleaned_word_count = cleaned_word_count + len(abstract)\n",
    "\n",
    "print('1. Raw word count: \\n{}\\n2. Preprocessed word count: \\n{}'.format(\n",
    "    total_word_count, cleaned_word_count))"
   ]
  },
  {
   "cell_type": "code",
   "execution_count": 67,
   "metadata": {
    "ExecuteTime": {
     "end_time": "2019-01-08T22:03:38.321306Z",
     "start_time": "2019-01-08T22:03:38.173344Z"
    },
    "collapsed": false
   },
   "outputs": [
    {
     "data": {
      "image/png": "[encoded data removed]",
      "text/plain": [
       "<Figure size 432x288 with 1 Axes>"
      ]
     },
     "metadata": {},
     "output_type": "display_data"
    }
   ],
   "source": [
    "plt.bar([0,1], [total_word_count, cleaned_word_count], color=['darkorange', 'darkblue'])\n",
    "plt.ylabel('Nº of words', fontsize=12)\n",
    "plt.xticks([0,1], ['Raw','Preprocessed'], fontsize=12)\n",
    "plt.title('Number of words before and after preprocessing\\n', fontsize=14)\n",
    "plt.show()"
   ]
  },
  {
   "cell_type": "code",
   "execution_count": 76,
   "metadata": {
    "ExecuteTime": {
     "end_time": "2019-01-08T22:10:04.283122Z",
     "start_time": "2019-01-08T22:10:04.255112Z"
    },
    "collapsed": false
   },
   "outputs": [
    {
     "data": {
      "text/html": [
       "<div>\n",
       "<style scoped>\n",
       "    .dataframe tbody tr th:only-of-type {\n",
       "        vertical-align: middle;\n",
       "    }\n",
       "\n",
       "    .dataframe tbody tr th {\n",
       "        vertical-align: top;\n",
       "    }\n",
       "\n",
       "    .dataframe thead th {\n",
       "        text-align: right;\n",
       "    }\n",
       "</style>\n",
       "<table border=\"1\" class=\"dataframe\">\n",
       "  <thead>\n",
       "    <tr style=\"text-align: right;\">\n",
       "      <th></th>\n",
       "      <th>Abstract</th>\n",
       "      <th>Preprocessed</th>\n",
       "      <th>Id</th>\n",
       "      <th>Title</th>\n",
       "      <th>Year</th>\n",
       "    </tr>\n",
       "  </thead>\n",
       "  <tbody>\n",
       "    <tr>\n",
       "      <th>0</th>\n",
       "      <td>To investigate the risk for psychiatric disord...</td>\n",
       "      <td>investig risk psychiatr disord patient newli d...</td>\n",
       "      <td>30609223</td>\n",
       "      <td>Psychiatric Disorders After Attention-Deficit/...</td>\n",
       "      <td>2019</td>\n",
       "    </tr>\n",
       "    <tr>\n",
       "      <th>1</th>\n",
       "      <td>A number of studies have documented the benefi...</td>\n",
       "      <td>number studi document benefit neuropsycholog e...</td>\n",
       "      <td>30608513</td>\n",
       "      <td>The Influence of Demographic and Child Charact...</td>\n",
       "      <td>2019</td>\n",
       "    </tr>\n",
       "    <tr>\n",
       "      <th>2</th>\n",
       "      <td>Identifying genetic diagnoses for neurologic c...</td>\n",
       "      <td>identifi genet diagnos neurolog condit conside...</td>\n",
       "      <td>30608006</td>\n",
       "      <td>Genetic Testing Practices of Genetic Counselor...</td>\n",
       "      <td>2019</td>\n",
       "    </tr>\n",
       "    <tr>\n",
       "      <th>3</th>\n",
       "      <td>Vitamin or mineral supplementation is consider...</td>\n",
       "      <td>vitamin miner supplement consid common use med...</td>\n",
       "      <td>30607900</td>\n",
       "      <td>The Role of Vitamins in Autism Spectrum Disord...</td>\n",
       "      <td>2019</td>\n",
       "    </tr>\n",
       "    <tr>\n",
       "      <th>4</th>\n",
       "      <td>GABA&lt;sub&gt;A&lt;/sub&gt; receptors are the major inhib...</td>\n",
       "      <td>gaba sub sub receptor major inhibitori neurotr...</td>\n",
       "      <td>30607899</td>\n",
       "      <td>The α5-Containing GABA&lt;sub&gt;A&lt;/sub&gt; Receptors-a...</td>\n",
       "      <td>2019</td>\n",
       "    </tr>\n",
       "  </tbody>\n",
       "</table>\n",
       "</div>"
      ],
      "text/plain": [
       "                                            Abstract  \\\n",
       "0  To investigate the risk for psychiatric disord...   \n",
       "1  A number of studies have documented the benefi...   \n",
       "2  Identifying genetic diagnoses for neurologic c...   \n",
       "3  Vitamin or mineral supplementation is consider...   \n",
       "4  GABA<sub>A</sub> receptors are the major inhib...   \n",
       "\n",
       "                                        Preprocessed        Id  \\\n",
       "0  investig risk psychiatr disord patient newli d...  30609223   \n",
       "1  number studi document benefit neuropsycholog e...  30608513   \n",
       "2  identifi genet diagnos neurolog condit conside...  30608006   \n",
       "3  vitamin miner supplement consid common use med...  30607900   \n",
       "4  gaba sub sub receptor major inhibitori neurotr...  30607899   \n",
       "\n",
       "                                               Title  Year  \n",
       "0  Psychiatric Disorders After Attention-Deficit/...  2019  \n",
       "1  The Influence of Demographic and Child Charact...  2019  \n",
       "2  Genetic Testing Practices of Genetic Counselor...  2019  \n",
       "3  The Role of Vitamins in Autism Spectrum Disord...  2019  \n",
       "4  The α5-Containing GABA<sub>A</sub> Receptors-a...  2019  "
      ]
     },
     "execution_count": 76,
     "metadata": {},
     "output_type": "execute_result"
    }
   ],
   "source": [
    "df_autism_articles.head()"
   ]
  },
  {
   "cell_type": "code",
   "execution_count": null,
   "metadata": {
    "collapsed": true
   },
   "outputs": [],
   "source": []
  }
 ],
 "metadata": {
  "kernelspec": {
   "display_name": "Python 3",
   "language": "python",
   "name": "python3"
  },
  "language_info": {
   "codemirror_mode": {
    "name": "ipython",
    "version": 3
   },
   "file_extension": ".py",
   "mimetype": "text/x-python",
   "name": "python",
   "nbconvert_exporter": "python",
   "pygments_lexer": "ipython3",
   "version": "3.6.0"
  },
  "toc": {
   "base_numbering": 1,
   "nav_menu": {},
   "number_sections": false,
   "sideBar": true,
   "skip_h1_title": false,
   "title_cell": "Table of Contents",
   "title_sidebar": "Contents",
   "toc_cell": false,
   "toc_position": {},
   "toc_section_display": true,
   "toc_window_display": false
  },
  "varInspector": {
   "cols": {
    "lenName": 16,
    "lenType": 16,
    "lenVar": 40
   },
   "kernels_config": {
    "python": {
     "delete_cmd_postfix": "",
     "delete_cmd_prefix": "del ",
     "library": "var_list.py",
     "varRefreshCmd": "print(var_dic_list())"
    },
    "r": {
     "delete_cmd_postfix": ") ",
     "delete_cmd_prefix": "rm(",
     "library": "var_list.r",
     "varRefreshCmd": "cat(var_dic_list()) "
    }
   },
   "position": {
    "height": "176px",
    "left": "938px",
    "right": "20px",
    "top": "43px",
    "width": "350px"
   },
   "types_to_exclude": [
    "module",
    "function",
    "builtin_function_or_method",
    "instance",
    "_Feature"
   ],
   "window_display": false
  }
 },
 "nbformat": 4,
 "nbformat_minor": 2
}
